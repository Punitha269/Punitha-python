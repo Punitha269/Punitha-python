{
 "cells": [
  {
   "cell_type": "code",
   "execution_count": 2,
   "id": "a61a0412-4a02-48e7-a9b1-dc47e98ecfa9",
   "metadata": {},
   "outputs": [
    {
     "name": "stdout",
     "output_type": "stream",
     "text": [
      "Advanced Calculator Program\n"
     ]
    },
    {
     "name": "stdout",
     "output_type": "stream",
     "text": [
      "Enter first number:  10\n",
      "Enter second number:  3\n"
     ]
    },
    {
     "name": "stdout",
     "output_type": "stream",
     "text": [
      "Select operation:\n",
      "1. Add\n",
      "2. Subtract\n",
      "3. Multiply\n",
      "4. Divide\n",
      "5. Modulus (Find Remainder)\n",
      "6. Exponentiate (Raise first number to the power of second)\n",
      "7. Floor Division\n"
     ]
    },
    {
     "name": "stdout",
     "output_type": "stream",
     "text": [
      "Enter choice (1/2/3/4/5/6/7):  2\n"
     ]
    },
    {
     "name": "stdout",
     "output_type": "stream",
     "text": [
      "The result of subtracting 3.0 from 10.0 is: 7.0\n"
     ]
    }
   ],
   "source": [
    "# Define functions for the operations\n",
    "def add(x, y):\n",
    "    return x + y\n",
    "\n",
    "def subtract(x, y):\n",
    "    return x - y\n",
    "\n",
    "def multiply(x, y):\n",
    "    return x * y\n",
    "\n",
    "def divide(x, y):\n",
    "    if y != 0:\n",
    "        return x / y\n",
    "    else:\n",
    "        return \"Error! Division by zero.\"\n",
    "\n",
    "def modulus(x, y):\n",
    "    if y != 0:\n",
    "        return x % y\n",
    "    else:\n",
    "        return \"Error! Division by zero.\"\n",
    "\n",
    "def exponentiate(x, y):\n",
    "    return x ** y\n",
    "\n",
    "def floor_divide(x, y):\n",
    "    if y != 0:\n",
    "        return x // y\n",
    "    else:\n",
    "        return \"Error! Division by zero.\"\n",
    "\n",
    "# Main program\n",
    "def calculator():\n",
    "    print(\"Advanced Calculator Program\")\n",
    "    \n",
    "    # Take input from the user\n",
    "    num1 = float(input(\"Enter first number: \"))\n",
    "    num2 = float(input(\"Enter second number: \"))\n",
    "\n",
    "    print(\"Select operation:\")\n",
    "    print(\"1. Add\")\n",
    "    print(\"2. Subtract\")\n",
    "    print(\"3. Multiply\")\n",
    "    print(\"4. Divide\")\n",
    "    print(\"5. Modulus (Find Remainder)\")\n",
    "    print(\"6. Exponentiate (Raise first number to the power of second)\")\n",
    "    print(\"7. Floor Division\")\n",
    "\n",
    "    # Get the user's choice of operation\n",
    "    choice = input(\"Enter choice (1/2/3/4/5/6/7): \")\n",
    "\n",
    "    # Perform the appropriate operation based on the user's choice\n",
    "    if choice == '1':\n",
    "        print(f\"The result of adding {num1} and {num2} is: {add(num1, num2)}\")\n",
    "    elif choice == '2':\n",
    "        print(f\"The result of subtracting {num2} from {num1} is: {subtract(num1, num2)}\")\n",
    "    elif choice == '3':\n",
    "        print(f\"The result of multiplying {num1} and {num2} is: {multiply(num1, num2)}\")\n",
    "    elif choice == '4':\n",
    "        print(f\"The result of dividing {num1} by {num2} is: {divide(num1, num2)}\")\n",
    "    elif choice == '5':\n",
    "        print(f\"The remainder when {num1} is divided by {num2} is: {modulus(num1, num2)}\")\n",
    "    elif choice == '6':\n",
    "        print(f\"The result of raising {num1} to the power of {num2} is: {exponentiate(num1, num2)}\")\n",
    "    elif choice == '7':\n",
    "        print(f\"The result of floor dividing {num1} by {num2} is: {floor_divide(num1, num2)}\")\n",
    "    else:\n",
    "        print(\"Invalid input. Please choose a valid operation.\")\n",
    "\n",
    "# Run the calculator program\n",
    "calculator()\n"
   ]
  },
  {
   "cell_type": "code",
   "execution_count": 5,
   "id": "6a72ed51-078c-40e0-9f93-7cbdf84cb7b8",
   "metadata": {},
   "outputs": [
    {
     "name": "stdout",
     "output_type": "stream",
     "text": [
      "Enter the first number:  3\n",
      "Enter the second number:  4\n"
     ]
    },
    {
     "name": "stdout",
     "output_type": "stream",
     "text": [
      "The first number (3.0) is not greater than the second number (4.0).\n",
      "The first number (3.0) is not equal to the second number (4.0).\n",
      "The first number (3.0) is less than or equal to the second number (4.0).\n"
     ]
    }
   ],
   "source": [
    "# Asking the user for two numbers\n",
    "num1 = float(input(\"Enter the first number: \"))\n",
    "num2 = float(input(\"Enter the second number: \"))\n",
    "\n",
    "# Checking if the first number is greater than the second\n",
    "if num1 > num2:\n",
    "    print(f\"The first number ({num1}) is greater than the second number ({num2}).\")\n",
    "else:\n",
    "    print(f\"The first number ({num1}) is not greater than the second number ({num2}).\")\n",
    "\n",
    "# Checking if the first number is equal to the second\n",
    "if num1 == num2:\n",
    "    print(f\"The first number ({num1}) is equal to the second number ({num2}).\")\n",
    "else:\n",
    "    print(f\"The first number ({num1}) is not equal to the second number ({num2}).\")\n",
    "\n",
    "# Checking if the first number is less than or equal to the second\n",
    "if num1 <= num2:\n",
    "    print(f\"The first number ({num1}) is less than or equal to the second number ({num2}).\")\n",
    "else:\n",
    "    print(f\"The first number ({num1}) is not less than or equal to the second number ({num2}).\")\n"
   ]
  },
  {
   "cell_type": "code",
   "execution_count": 6,
   "id": "fff2400b-641a-47ae-ac12-a1780f3dc4a1",
   "metadata": {},
   "outputs": [
    {
     "name": "stdout",
     "output_type": "stream",
     "text": [
      "Enter the first boolean value (True/False):  true\n",
      "Enter the second boolean value (True/False):  false\n",
      "Enter the third boolean value (True/False):  true\n"
     ]
    },
    {
     "name": "stdout",
     "output_type": "stream",
     "text": [
      "AND result: False\n",
      "OR result: False\n",
      "NOT a: True\n",
      "NOT b: True\n",
      "NOT c: True\n"
     ]
    }
   ],
   "source": [
    "# Function to combine boolean values\n",
    "def combine_booleans(a, b, c):\n",
    "    result_and = a and b and c\n",
    "    result_or = a or b or c\n",
    "    result_not_a = not a\n",
    "    result_not_b = not b\n",
    "    result_not_c = not c\n",
    "    \n",
    "    return {\n",
    "        \"AND result\": result_and,\n",
    "        \"OR result\": result_or,\n",
    "        \"NOT a\": result_not_a,\n",
    "        \"NOT b\": result_not_b,\n",
    "        \"NOT c\": result_not_c\n",
    "    }\n",
    "\n",
    "# Input from the user\n",
    "a = input(\"Enter the first boolean value (True/False): \") == \"True\"\n",
    "b = input(\"Enter the second boolean value (True/False): \") == \"True\"\n",
    "c = input(\"Enter the third boolean value (True/False): \") == \"True\"\n",
    "\n",
    "# Displaying results\n",
    "results = combine_booleans(a, b, c)\n",
    "\n",
    "# Printing the results\n",
    "for operation, result in results.items():\n",
    "    print(f\"{operation}: {result}\")\n"
   ]
  },
  {
   "cell_type": "code",
   "execution_count": 1,
   "id": "d9303542-8ee2-43c5-b445-99fbfd502d6e",
   "metadata": {},
   "outputs": [
    {
     "name": "stdout",
     "output_type": "stream",
     "text": [
      "Enter a string:  sonu\n"
     ]
    },
    {
     "name": "stdout",
     "output_type": "stream",
     "text": [
      "Length of the string: 4\n",
      "First character: s\n",
      "Last character: u\n",
      "Reversed string: unos\n",
      "Uppercase: SONU\n",
      "Lowercase: sonu\n"
     ]
    }
   ],
   "source": [
    "# Function for string manipulation\n",
    "def string_manipulation(s):\n",
    "    length = len(s)\n",
    "    first_char = s[0] if length > 0 else \"Empty String\"\n",
    "    last_char = s[-1] if length > 0 else \"Empty String\"\n",
    "    reversed_string = s[::-1]\n",
    "    upper_case = s.upper()\n",
    "    lower_case = s.lower()\n",
    "    \n",
    "    return {\n",
    "        \"Length of the string\": length,\n",
    "        \"First character\": first_char,\n",
    "        \"Last character\": last_char,\n",
    "        \"Reversed string\": reversed_string,\n",
    "        \"Uppercase\": upper_case,\n",
    "        \"Lowercase\": lower_case\n",
    "    }\n",
    "\n",
    "# Input from the user\n",
    "user_string = input(\"Enter a string: \")\n",
    "\n",
    "# Getting the manipulation results\n",
    "results = string_manipulation(user_string)\n",
    "\n",
    "# Printing the results\n",
    "for operation, result in results.items():\n",
    "    print(f\"{operation}: {result}\")\n"
   ]
  },
  {
   "cell_type": "code",
   "execution_count": 2,
   "id": "7f24fd8f-a07b-4b25-b3bb-952e85cf6860",
   "metadata": {},
   "outputs": [
    {
     "name": "stdout",
     "output_type": "stream",
     "text": [
      "Enter your name:  punitha\n",
      "Enter your age:  21\n"
     ]
    },
    {
     "name": "stdout",
     "output_type": "stream",
     "text": [
      "Hello punitha, you are 21 years old.\n"
     ]
    }
   ],
   "source": [
    "# Function to display the message\n",
    "def display_message(name, age):\n",
    "    return f\"Hello {name}, you are {age} years old.\"\n",
    "\n",
    "# Input from the user\n",
    "name = input(\"Enter your name: \")\n",
    "age = input(\"Enter your age: \")\n",
    "\n",
    "# Displaying the message\n",
    "message = display_message(name, age)\n",
    "print(message)\n"
   ]
  },
  {
   "cell_type": "code",
   "execution_count": 3,
   "id": "c7bd4065-4a21-471f-b416-8ee3f8d376a5",
   "metadata": {},
   "outputs": [
    {
     "name": "stdout",
     "output_type": "stream",
     "text": [
      "Enter a sentence:  hi people how are you\n",
      "Enter the word to search for:  how\n"
     ]
    },
    {
     "name": "stdout",
     "output_type": "stream",
     "text": [
      "The word 'how' exists in the sentence at index 10.\n"
     ]
    }
   ],
   "source": [
    "# Function to search for a word in the sentence\n",
    "def search_word_in_sentence(sentence, word):\n",
    "    index = sentence.find(word)\n",
    "    if index != -1:\n",
    "        return f\"The word '{word}' exists in the sentence at index {index}.\"\n",
    "    else:\n",
    "        return f\"The word '{word}' does not exist in the sentence.\"\n",
    "\n",
    "# Input from the user\n",
    "sentence = input(\"Enter a sentence: \")\n",
    "word = input(\"Enter the word to search for: \")\n",
    "\n",
    "# Display the result\n",
    "result = search_word_in_sentence(sentence, word)\n",
    "print(result)\n"
   ]
  },
  {
   "cell_type": "code",
   "execution_count": 4,
   "id": "3ca4ecc8-8bce-4c00-a0b6-42232031511e",
   "metadata": {},
   "outputs": [
    {
     "name": "stdout",
     "output_type": "stream",
     "text": [
      "Enter 5 numbers:\n"
     ]
    },
    {
     "name": "stdout",
     "output_type": "stream",
     "text": [
      "Enter number 1:  12\n",
      "Enter number 2:  66\n",
      "Enter number 3:  90\n",
      "Enter number 4:  76\n",
      "Enter number 5:  89\n"
     ]
    },
    {
     "name": "stdout",
     "output_type": "stream",
     "text": [
      "The sum of all numbers is: 333.0\n",
      "The largest number is: 90.0\n",
      "The smallest number is: 12.0\n"
     ]
    }
   ],
   "source": [
    "# Step 1: Create a list of 5 numbers input from the user\n",
    "numbers = []\n",
    "\n",
    "print(\"Enter 5 numbers:\")\n",
    "for i in range(5):\n",
    "    num = float(input(f\"Enter number {i + 1}: \"))\n",
    "    numbers.append(num)\n",
    "\n",
    "# Step 2: Display the sum of all the numbers in the list\n",
    "total_sum = sum(numbers)\n",
    "print(f\"The sum of all numbers is: {total_sum}\")\n",
    "\n",
    "# Step 3: Find the largest and smallest number in the list\n",
    "largest = max(numbers)\n",
    "smallest = min(numbers)\n",
    "\n",
    "print(f\"The largest number is: {largest}\")\n",
    "print(f\"The smallest number is: {smallest}\")\n"
   ]
  },
  {
   "cell_type": "code",
   "execution_count": 7,
   "id": "9bfa88ee-9db2-4456-894a-522eb2c250e1",
   "metadata": {},
   "outputs": [
    {
     "name": "stdout",
     "output_type": "stream",
     "text": [
      "['Mango', 'Apple', 'Pineapple', 'Banana', 'Orange']\n"
     ]
    }
   ],
   "source": [
    "fruits = [\"Mango\", \"Strawberry\", \"Apple\", \"Pineapple\", \"Banana\"]\n",
    "# Adding one more fruit\n",
    "fruits.append(\"Orange\")\n",
    "\n",
    "# Removing the second fruit (Strawberry)\n",
    "fruits.pop(1)\n",
    "\n",
    "# Print the updated list\n",
    "print(fruits)\n",
    "\n",
    "\n"
   ]
  },
  {
   "cell_type": "code",
   "execution_count": 8,
   "id": "94c6c148-09d2-4caf-8c37-36af3f47282f",
   "metadata": {},
   "outputs": [
    {
     "name": "stdout",
     "output_type": "stream",
     "text": [
      "Enter number 1:  88\n",
      "Enter number 2:  90\n",
      "Enter number 3:  66\n",
      "Enter number 4:  78\n",
      "Enter number 5:  43\n"
     ]
    },
    {
     "name": "stdout",
     "output_type": "stream",
     "text": [
      "Sorted list in ascending order: [43.0, 66.0, 78.0, 88.0, 90.0]\n",
      "Sorted list in descending order: [90.0, 88.0, 78.0, 66.0, 43.0]\n"
     ]
    }
   ],
   "source": [
    "# Step 1: Ask the user to input a list of 5 numbers\n",
    "numbers = []\n",
    "for i in range(5):\n",
    "    num = float(input(f\"Enter number {i+1}: \"))\n",
    "    numbers.append(num)\n",
    "\n",
    "# Step 2: Sort the list in ascending order and display it\n",
    "ascending = sorted(numbers)\n",
    "print(\"Sorted list in ascending order:\", ascending)\n",
    "\n",
    "# Step 3: Sort the list in descending order and display it\n",
    "descending = sorted(numbers, reverse=True)\n",
    "print(\"Sorted list in descending order:\", descending)\n"
   ]
  },
  {
   "cell_type": "code",
   "execution_count": 9,
   "id": "21b2d9fd-58bf-4275-8d37-109b876b091b",
   "metadata": {},
   "outputs": [
    {
     "name": "stdout",
     "output_type": "stream",
     "text": [
      "First 5 elements: [1, 2, 3, 4, 5]\n",
      "Last 5 elements: [6, 7, 8, 9, 10]\n",
      "Elements from index 2 to index 7: [3, 4, 5, 6, 7, 8]\n"
     ]
    }
   ],
   "source": [
    "# Given list\n",
    "numbers = [1, 2, 3, 4, 5, 6, 7, 8, 9, 10]\n",
    "\n",
    "# 1. Print the first 5 elements\n",
    "print(\"First 5 elements:\", numbers[:5])\n",
    "\n",
    "# 2. Print the last 5 elements\n",
    "print(\"Last 5 elements:\", numbers[-5:])\n",
    "\n",
    "# 3. Print the elements from index 2 to index 7\n",
    "print(\"Elements from index 2 to index 7:\", numbers[2:8])\n"
   ]
  },
  {
   "cell_type": "code",
   "execution_count": 10,
   "id": "c9869360-3432-4415-b921-30a21c231085",
   "metadata": {},
   "outputs": [
    {
     "name": "stdout",
     "output_type": "stream",
     "text": [
      "Enter the name of student 1:  punitha\n",
      "Enter score 1 for punitha:  88\n",
      "Enter score 2 for punitha:  90\n",
      "Enter score 3 for punitha:  78\n",
      "Enter the name of student 2:  sonu\n",
      "Enter score 1 for sonu:  55\n",
      "Enter score 2 for sonu:  67\n",
      "Enter score 3 for sonu:  80\n",
      "Enter the name of student 3:  max\n",
      "Enter score 1 for max:  57\n",
      "Enter score 2 for max:  88\n",
      "Enter score 3 for max:  90\n"
     ]
    },
    {
     "name": "stdout",
     "output_type": "stream",
     "text": [
      "punitha's average score: 85.33\n",
      "sonu's average score: 67.33\n",
      "max's average score: 78.33\n"
     ]
    }
   ],
   "source": [
    "# Step 1: Take input for 3 students' names and their scores in 3 subjects\n",
    "students = []\n",
    "for i in range(3):\n",
    "    name = input(f\"Enter the name of student {i+1}: \")\n",
    "    scores = []\n",
    "    for j in range(3):\n",
    "        score = float(input(f\"Enter score {j+1} for {name}: \"))\n",
    "        scores.append(score)\n",
    "    students.append([name, scores])\n",
    "\n",
    "# Step 2: Print each student's name and their average score\n",
    "for student in students:\n",
    "    name, scores = student\n",
    "    average_score = sum(scores) / len(scores)\n",
    "    print(f\"{name}'s average score: {average_score:.2f}\")\n"
   ]
  },
  {
   "cell_type": "code",
   "execution_count": null,
   "id": "8757ef49-bb9b-491d-8053-c5f78242b0ec",
   "metadata": {},
   "outputs": [],
   "source": []
  }
 ],
 "metadata": {
  "kernelspec": {
   "display_name": "Python 3 (ipykernel)",
   "language": "python",
   "name": "python3"
  },
  "language_info": {
   "codemirror_mode": {
    "name": "ipython",
    "version": 3
   },
   "file_extension": ".py",
   "mimetype": "text/x-python",
   "name": "python",
   "nbconvert_exporter": "python",
   "pygments_lexer": "ipython3",
   "version": "3.12.4"
  }
 },
 "nbformat": 4,
 "nbformat_minor": 5
}
